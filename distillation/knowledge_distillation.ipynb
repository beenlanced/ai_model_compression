{
 "cells": [
  {
   "cell_type": "markdown",
   "id": "ca88ec64",
   "metadata": {},
   "source": [
    "# Knowledge Distillation Approach Using PyTorch\n",
    "\n",
    "The general work flow:\n",
    "\n",
    "\n",
    "<p>\n",
    "  <img alt=Knowledge Distillation Workflow\" src=\"distillation_workflow.png\" width=\"450\" height=\"200\"/>\n",
    "</p>\n",
    "\n",
    "[img source: knowledge distillation section](https://www.linkedin.com/learning/ai-model-compression-techniques-building-cheaper-faster-and-greener-ai)"
   ]
  },
  {
   "cell_type": "markdown",
   "id": "65b009f2",
   "metadata": {},
   "source": []
  }
 ],
 "metadata": {
  "language_info": {
   "name": "python"
  }
 },
 "nbformat": 4,
 "nbformat_minor": 5
}
