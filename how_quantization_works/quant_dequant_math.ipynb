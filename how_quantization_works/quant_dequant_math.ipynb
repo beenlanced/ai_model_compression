{
 "cells": [
  {
   "cell_type": "markdown",
   "id": "20d51600",
   "metadata": {},
   "source": [
    "# Notebook to Show the Mathematics Behind Quantization and Dequantization\n",
    "\n",
    "\n",
    "### Key Concepts of Quantization\n",
    "\n",
    "* **Precision Reduction**: Reducing the number of bits used to represent each number.\n",
    "\n",
    "* **Quantization Interval**: The range of values that can be represented in the lower precision format.\n",
    "\n",
    "* **Scale and Zero-Point**: Parameters used to map floating-point numbers to integers and back.\n",
    "\n",
    "\n",
    "### The Mathematical Foundation\n",
    "\n",
    "#### Quantization\n",
    "\n",
    "For quantization, we often convert floating-point numbers to integers. This involves two main steps:\n",
    "\n",
    "1. **Affine Mapping**:\n",
    "\n",
    "    Mapping floating-point values to integers using a linear transformation.\n",
    "\n",
    "2. **Quantization Equation**:\n",
    "\n",
    "$$\n",
    "\\text{Quantized - INT8 value} = round(scale \\, factor \\times FP) + \\text{zero-point} \n",
    "$$\n",
    "\n",
    "#### Dequantization\n",
    "\n",
    "The **Dequantization Equation**\n",
    "\n",
    "$$\n",
    "\\text{floating point (FP) value} = \\frac{INT8 - \\text{zero-point}}{\\text{scale factor}} \n",
    "$$"
   ]
  },
  {
   "cell_type": "markdown",
   "id": "701a70c7",
   "metadata": {},
   "source": [
    "## Load Modules"
   ]
  },
  {
   "cell_type": "code",
   "execution_count": 33,
   "id": "92b75ad9",
   "metadata": {},
   "outputs": [],
   "source": [
    "import numpy as np\n",
    "import numpy.typing as npt\n"
   ]
  },
  {
   "cell_type": "markdown",
   "id": "57d172d1",
   "metadata": {},
   "source": [
    "----\n",
    "\n",
    "# Example of Zero-Point  8-bit Quantization\n",
    "\n",
    "----\n",
    "\n",
    " # Calculate value range (denominator)"
   ]
  },
  {
   "cell_type": "code",
   "execution_count": 34,
   "id": "6a6b6e5e",
   "metadata": {},
   "outputs": [],
   "source": [
    "def perform_zeropoint_quantize(X: npt.NDArray[np.float64]) -> npt.NDArray[np.int8]:\n",
    "   \n",
    "   \n",
    "    max_value = np.max(X)\n",
    "    min_value = np.min(X)\n",
    "\n",
    "    x_range = max_value - min_value\n",
    "\n",
    "    x_range = 1 if x_range == 0 else x_range\n",
    "\n",
    "    # Calculate scale\n",
    "    scale = 255 / x_range\n",
    "    print(f\"Scale factor = {scale}\")\n",
    "\n",
    "    # Shift by zero-point\n",
    "    zeropoint = (-scale * min_value - 128).round()\n",
    "    print(f\"Zero-point = {zeropoint}\")\n",
    "\n",
    "    # Scale and round the inputs\n",
    "    X_quant = np.round(X * scale + zeropoint)\n",
    "\n",
    "    # Dequantize\n",
    "    X_dequant = (X_quant - zeropoint) / scale\n",
    "\n",
    "    return X_quant, X_dequant"
   ]
  },
  {
   "cell_type": "markdown",
   "id": "80d6564f",
   "metadata": {},
   "source": [
    "### Providing a Dummy Vector of Values to test out Quantization and Dequantization\n",
    "\n",
    "Here, I am using the values suggested by Maxime Labonne in [Introduction to Weight Quantization](https://towardsdatascience.com/introduction-to-weight-quantization-2494701b9c0c/)\n",
    "\n",
    "The floating point values to be quantized include:\n",
    "\n",
    "`X = [-3.0, 0.1, 3.1]` \n",
    "\n",
    "The quantized values can be seen in the following diagram which helps to depict the quantization process.\n",
    "\n",
    "\n",
    "<p>\n",
    "  <img alt=\"Zero-point Quantization Example\" src=\"zero_point_example.png\" width=\"400\" height=\"300\"/>\n",
    "</p>\n",
    "\n",
    "\n",
    "\n",
    "\n"
   ]
  },
  {
   "cell_type": "code",
   "execution_count": 35,
   "id": "9979b110",
   "metadata": {},
   "outputs": [],
   "source": [
    "X = np.array([[-3.0, 0.1, 3.2]])"
   ]
  },
  {
   "cell_type": "code",
   "execution_count": 36,
   "id": "f38c5393",
   "metadata": {},
   "outputs": [
    {
     "name": "stdout",
     "output_type": "stream",
     "text": [
      "max_value = 3.2\n",
      "min_value = -3.0\n"
     ]
    }
   ],
   "source": [
    "#Max and Min from X\n",
    "\n",
    "max_value = np.max(X)\n",
    "min_value = np.min(X)\n",
    "\n",
    "print(f\"max_value = {max_value}\")\n",
    "print(f\"min_value = {min_value}\")"
   ]
  },
  {
   "cell_type": "code",
   "execution_count": 37,
   "id": "c528f816",
   "metadata": {},
   "outputs": [
    {
     "name": "stdout",
     "output_type": "stream",
     "text": [
      "Scale factor = 41.12903225806451\n",
      "Zero-point = -5.0\n"
     ]
    }
   ],
   "source": [
    "x_quant, x_dequant = perform_zeropoint_quantize(X)"
   ]
  },
  {
   "cell_type": "code",
   "execution_count": 38,
   "id": "464b5445",
   "metadata": {},
   "outputs": [
    {
     "name": "stdout",
     "output_type": "stream",
     "text": [
      "Quantized values of X =  [[-128.   -1.  127.]]\n"
     ]
    }
   ],
   "source": [
    "# The Quantized values of the input Floating Point Values\n",
    "print(\"Quantized values of X = \", x_quant)"
   ]
  },
  {
   "cell_type": "code",
   "execution_count": 40,
   "id": "7db63b74",
   "metadata": {},
   "outputs": [
    {
     "name": "stdout",
     "output_type": "stream",
     "text": [
      "Dequantized values of X_quant =  [[-2.99058824  0.0972549   3.20941176]]\n"
     ]
    }
   ],
   "source": [
    "# The Dequantized values of the Int8 Quantized Values\n",
    "# Notice the dequantized values are close but not exactly the original floating point values\n",
    "print(\"Dequantized values of X_quant = \", x_dequant)"
   ]
  },
  {
   "cell_type": "markdown",
   "id": "4056868b",
   "metadata": {},
   "source": []
  }
 ],
 "metadata": {
  "kernelspec": {
   "display_name": "ai-model-compression",
   "language": "python",
   "name": "python3"
  },
  "language_info": {
   "codemirror_mode": {
    "name": "ipython",
    "version": 3
   },
   "file_extension": ".py",
   "mimetype": "text/x-python",
   "name": "python",
   "nbconvert_exporter": "python",
   "pygments_lexer": "ipython3",
   "version": "3.12.10"
  }
 },
 "nbformat": 4,
 "nbformat_minor": 5
}
